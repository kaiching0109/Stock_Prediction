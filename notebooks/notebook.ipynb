{
 "cells": [
  {
   "cell_type": "code",
   "execution_count": 23,
   "metadata": {},
   "outputs": [],
   "source": [
    "\"\"\"\n",
    "Set up all module path\n",
    "\"\"\"\n",
    "import os\n",
    "import sys\n",
    "root_path = os.path.abspath(os.path.join('..'))\n",
    "if root_path not in sys.path:\n",
    "    sys.path.append(root_path)\n",
    "feature_path = os.path.join(root_path, 'src', 'features')\n",
    "vizualizer_path = os.path.join(root_path, 'src', 'visualization')\n",
    "models_path = os.path.join(root_path, 'src', 'models', 'Kai')\n",
    "raw_data_path = os.path.join(root_path, 'data', 'raw')\n",
    "processed_data_path = os.path.join(root_path, 'data', 'processed')\n",
    "\n",
    "sys.path.extend([feature_path, vizualizer_path, models_path, raw_data_path, processed_data_path])"
   ]
  },
  {
   "cell_type": "code",
   "execution_count": 25,
   "metadata": {},
   "outputs": [],
   "source": [
    "from feature_builder import raw_data_processor\n",
    "from train_controller import train_controller\n",
    "from prediction_controller import prediction_controller\n",
    "from netural_network import netural_network\n",
    "from simple_regression import simple_regression"
   ]
  },
  {
   "cell_type": "code",
   "execution_count": null,
   "metadata": {},
   "outputs": [],
   "source": []
  }
 ],
 "metadata": {
  "kernelspec": {
   "display_name": "Python 3",
   "language": "python",
   "name": "python3"
  },
  "language_info": {
   "codemirror_mode": {
    "name": "ipython",
    "version": 3
   },
   "file_extension": ".py",
   "mimetype": "text/x-python",
   "name": "python",
   "nbconvert_exporter": "python",
   "pygments_lexer": "ipython3",
   "version": "3.6.8"
  }
 },
 "nbformat": 4,
 "nbformat_minor": 2
}
